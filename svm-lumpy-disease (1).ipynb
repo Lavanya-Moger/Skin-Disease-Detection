{
 "cells": [
  {
   "cell_type": "code",
   "execution_count": 1,
   "id": "81c5d6e3",
   "metadata": {
    "execution": {
     "iopub.execute_input": "2023-12-15T07:28:42.128340Z",
     "iopub.status.busy": "2023-12-15T07:28:42.127681Z",
     "iopub.status.idle": "2023-12-15T07:28:42.915454Z",
     "shell.execute_reply": "2023-12-15T07:28:42.914330Z"
    },
    "papermill": {
     "duration": 0.802576,
     "end_time": "2023-12-15T07:28:42.918498",
     "exception": false,
     "start_time": "2023-12-15T07:28:42.115922",
     "status": "completed"
    },
    "tags": []
   },
   "outputs": [],
   "source": [
    "import pandas as pd\n",
    "import numpy as np\n",
    "from scipy import stats"
   ]
  },
  {
   "cell_type": "code",
   "execution_count": 2,
   "id": "6017e2c7",
   "metadata": {
    "execution": {
     "iopub.execute_input": "2023-12-15T07:28:42.936471Z",
     "iopub.status.busy": "2023-12-15T07:28:42.936050Z",
     "iopub.status.idle": "2023-12-15T07:28:43.180033Z",
     "shell.execute_reply": "2023-12-15T07:28:43.178855Z"
    },
    "papermill": {
     "duration": 0.256855,
     "end_time": "2023-12-15T07:28:43.183566",
     "exception": false,
     "start_time": "2023-12-15T07:28:42.926711",
     "status": "completed"
    },
    "tags": []
   },
   "outputs": [
    {
     "data": {
      "text/html": [
       "<div>\n",
       "<style scoped>\n",
       "    .dataframe tbody tr th:only-of-type {\n",
       "        vertical-align: middle;\n",
       "    }\n",
       "\n",
       "    .dataframe tbody tr th {\n",
       "        vertical-align: top;\n",
       "    }\n",
       "\n",
       "    .dataframe thead th {\n",
       "        text-align: right;\n",
       "    }\n",
       "</style>\n",
       "<table border=\"1\" class=\"dataframe\">\n",
       "  <thead>\n",
       "    <tr style=\"text-align: right;\">\n",
       "      <th></th>\n",
       "      <th>x</th>\n",
       "      <th>y</th>\n",
       "      <th>region</th>\n",
       "      <th>country</th>\n",
       "      <th>reportingDate</th>\n",
       "      <th>cld</th>\n",
       "      <th>dtr</th>\n",
       "      <th>frs</th>\n",
       "      <th>pet</th>\n",
       "      <th>pre</th>\n",
       "      <th>tmn</th>\n",
       "      <th>tmp</th>\n",
       "      <th>tmx</th>\n",
       "      <th>vap</th>\n",
       "      <th>wet</th>\n",
       "      <th>elevation</th>\n",
       "      <th>dominant_land_cover</th>\n",
       "      <th>X5_Ct_2010_Da</th>\n",
       "      <th>X5_Bf_2010_Da</th>\n",
       "      <th>lumpy</th>\n",
       "    </tr>\n",
       "  </thead>\n",
       "  <tbody>\n",
       "    <tr>\n",
       "      <th>0</th>\n",
       "      <td>90.380931</td>\n",
       "      <td>22.437184</td>\n",
       "      <td>Asia</td>\n",
       "      <td>Bangladesh</td>\n",
       "      <td>10/9/2020</td>\n",
       "      <td>41.6</td>\n",
       "      <td>12.8</td>\n",
       "      <td>0.00</td>\n",
       "      <td>2.3</td>\n",
       "      <td>1.7</td>\n",
       "      <td>12.7</td>\n",
       "      <td>19.1</td>\n",
       "      <td>25.5</td>\n",
       "      <td>15.7</td>\n",
       "      <td>0.00</td>\n",
       "      <td>147</td>\n",
       "      <td>2</td>\n",
       "      <td>27970.983100</td>\n",
       "      <td>3691.746950</td>\n",
       "      <td>1</td>\n",
       "    </tr>\n",
       "    <tr>\n",
       "      <th>1</th>\n",
       "      <td>87.854975</td>\n",
       "      <td>22.986757</td>\n",
       "      <td>Asia</td>\n",
       "      <td>India</td>\n",
       "      <td>20/12/2019</td>\n",
       "      <td>40.5</td>\n",
       "      <td>13.3</td>\n",
       "      <td>0.00</td>\n",
       "      <td>2.4</td>\n",
       "      <td>0.0</td>\n",
       "      <td>13.2</td>\n",
       "      <td>19.8</td>\n",
       "      <td>26.5</td>\n",
       "      <td>16.3</td>\n",
       "      <td>0.00</td>\n",
       "      <td>145</td>\n",
       "      <td>2</td>\n",
       "      <td>25063.646690</td>\n",
       "      <td>671.326701</td>\n",
       "      <td>1</td>\n",
       "    </tr>\n",
       "    <tr>\n",
       "      <th>2</th>\n",
       "      <td>85.279935</td>\n",
       "      <td>23.610181</td>\n",
       "      <td>Asia</td>\n",
       "      <td>India</td>\n",
       "      <td>20/12/2019</td>\n",
       "      <td>27.3</td>\n",
       "      <td>13.6</td>\n",
       "      <td>0.08</td>\n",
       "      <td>2.3</td>\n",
       "      <td>0.6</td>\n",
       "      <td>9.4</td>\n",
       "      <td>16.2</td>\n",
       "      <td>23.0</td>\n",
       "      <td>13.0</td>\n",
       "      <td>0.98</td>\n",
       "      <td>158</td>\n",
       "      <td>2</td>\n",
       "      <td>6038.477155</td>\n",
       "      <td>1426.839831</td>\n",
       "      <td>1</td>\n",
       "    </tr>\n",
       "    <tr>\n",
       "      <th>3</th>\n",
       "      <td>81.564510</td>\n",
       "      <td>43.882221</td>\n",
       "      <td>Asia</td>\n",
       "      <td>China</td>\n",
       "      <td>25/10/2019</td>\n",
       "      <td>45.3</td>\n",
       "      <td>12.8</td>\n",
       "      <td>31.00</td>\n",
       "      <td>0.4</td>\n",
       "      <td>8.8</td>\n",
       "      <td>-22.5</td>\n",
       "      <td>-16.1</td>\n",
       "      <td>-9.7</td>\n",
       "      <td>0.9</td>\n",
       "      <td>4.64</td>\n",
       "      <td>178</td>\n",
       "      <td>2</td>\n",
       "      <td>760.703340</td>\n",
       "      <td>0.000000</td>\n",
       "      <td>1</td>\n",
       "    </tr>\n",
       "    <tr>\n",
       "      <th>4</th>\n",
       "      <td>81.161057</td>\n",
       "      <td>43.834976</td>\n",
       "      <td>Asia</td>\n",
       "      <td>China</td>\n",
       "      <td>25/10/2019</td>\n",
       "      <td>38.8</td>\n",
       "      <td>13.2</td>\n",
       "      <td>31.00</td>\n",
       "      <td>0.4</td>\n",
       "      <td>10.5</td>\n",
       "      <td>-20.4</td>\n",
       "      <td>-13.8</td>\n",
       "      <td>-7.2</td>\n",
       "      <td>1.2</td>\n",
       "      <td>1.69</td>\n",
       "      <td>185</td>\n",
       "      <td>3</td>\n",
       "      <td>270.367426</td>\n",
       "      <td>0.000000</td>\n",
       "      <td>1</td>\n",
       "    </tr>\n",
       "  </tbody>\n",
       "</table>\n",
       "</div>"
      ],
      "text/plain": [
       "           x          y region     country reportingDate   cld   dtr    frs  \\\n",
       "0  90.380931  22.437184   Asia  Bangladesh     10/9/2020  41.6  12.8   0.00   \n",
       "1  87.854975  22.986757   Asia       India    20/12/2019  40.5  13.3   0.00   \n",
       "2  85.279935  23.610181   Asia       India    20/12/2019  27.3  13.6   0.08   \n",
       "3  81.564510  43.882221   Asia       China    25/10/2019  45.3  12.8  31.00   \n",
       "4  81.161057  43.834976   Asia       China    25/10/2019  38.8  13.2  31.00   \n",
       "\n",
       "   pet   pre   tmn   tmp   tmx   vap   wet  elevation  dominant_land_cover  \\\n",
       "0  2.3   1.7  12.7  19.1  25.5  15.7  0.00        147                    2   \n",
       "1  2.4   0.0  13.2  19.8  26.5  16.3  0.00        145                    2   \n",
       "2  2.3   0.6   9.4  16.2  23.0  13.0  0.98        158                    2   \n",
       "3  0.4   8.8 -22.5 -16.1  -9.7   0.9  4.64        178                    2   \n",
       "4  0.4  10.5 -20.4 -13.8  -7.2   1.2  1.69        185                    3   \n",
       "\n",
       "   X5_Ct_2010_Da  X5_Bf_2010_Da  lumpy  \n",
       "0   27970.983100    3691.746950      1  \n",
       "1   25063.646690     671.326701      1  \n",
       "2    6038.477155    1426.839831      1  \n",
       "3     760.703340       0.000000      1  \n",
       "4     270.367426       0.000000      1  "
      ]
     },
     "execution_count": 2,
     "metadata": {},
     "output_type": "execute_result"
    }
   ],
   "source": [
    "data=pd.read_csv(r\"../input/lumpy-skin-disease-dataset/Lumpy skin disease data.csv\")\n",
    "data.head()"
   ]
  },
  {
   "cell_type": "code",
   "execution_count": 3,
   "id": "b425b84a",
   "metadata": {
    "execution": {
     "iopub.execute_input": "2023-12-15T07:28:43.202026Z",
     "iopub.status.busy": "2023-12-15T07:28:43.201522Z",
     "iopub.status.idle": "2023-12-15T07:28:43.235924Z",
     "shell.execute_reply": "2023-12-15T07:28:43.234916Z"
    },
    "papermill": {
     "duration": 0.046677,
     "end_time": "2023-12-15T07:28:43.238674",
     "exception": false,
     "start_time": "2023-12-15T07:28:43.191997",
     "status": "completed"
    },
    "tags": []
   },
   "outputs": [
    {
     "data": {
      "text/html": [
       "<div>\n",
       "<style scoped>\n",
       "    .dataframe tbody tr th:only-of-type {\n",
       "        vertical-align: middle;\n",
       "    }\n",
       "\n",
       "    .dataframe tbody tr th {\n",
       "        vertical-align: top;\n",
       "    }\n",
       "\n",
       "    .dataframe thead th {\n",
       "        text-align: right;\n",
       "    }\n",
       "</style>\n",
       "<table border=\"1\" class=\"dataframe\">\n",
       "  <thead>\n",
       "    <tr style=\"text-align: right;\">\n",
       "      <th></th>\n",
       "      <th>x</th>\n",
       "      <th>y</th>\n",
       "      <th>cld</th>\n",
       "      <th>dtr</th>\n",
       "      <th>frs</th>\n",
       "      <th>pet</th>\n",
       "      <th>pre</th>\n",
       "      <th>tmn</th>\n",
       "      <th>tmp</th>\n",
       "      <th>tmx</th>\n",
       "      <th>vap</th>\n",
       "      <th>wet</th>\n",
       "      <th>elevation</th>\n",
       "      <th>dominant_land_cover</th>\n",
       "      <th>X5_Ct_2010_Da</th>\n",
       "      <th>X5_Bf_2010_Da</th>\n",
       "      <th>lumpy</th>\n",
       "    </tr>\n",
       "  </thead>\n",
       "  <tbody>\n",
       "    <tr>\n",
       "      <th>0</th>\n",
       "      <td>90.380931</td>\n",
       "      <td>22.437184</td>\n",
       "      <td>41.6</td>\n",
       "      <td>12.8</td>\n",
       "      <td>0.00</td>\n",
       "      <td>2.3</td>\n",
       "      <td>1.7</td>\n",
       "      <td>12.7</td>\n",
       "      <td>19.1</td>\n",
       "      <td>25.5</td>\n",
       "      <td>15.7</td>\n",
       "      <td>0.00</td>\n",
       "      <td>147</td>\n",
       "      <td>2</td>\n",
       "      <td>27970.983100</td>\n",
       "      <td>3691.746950</td>\n",
       "      <td>1</td>\n",
       "    </tr>\n",
       "    <tr>\n",
       "      <th>1</th>\n",
       "      <td>87.854975</td>\n",
       "      <td>22.986757</td>\n",
       "      <td>40.5</td>\n",
       "      <td>13.3</td>\n",
       "      <td>0.00</td>\n",
       "      <td>2.4</td>\n",
       "      <td>0.0</td>\n",
       "      <td>13.2</td>\n",
       "      <td>19.8</td>\n",
       "      <td>26.5</td>\n",
       "      <td>16.3</td>\n",
       "      <td>0.00</td>\n",
       "      <td>145</td>\n",
       "      <td>2</td>\n",
       "      <td>25063.646690</td>\n",
       "      <td>671.326701</td>\n",
       "      <td>1</td>\n",
       "    </tr>\n",
       "    <tr>\n",
       "      <th>2</th>\n",
       "      <td>85.279935</td>\n",
       "      <td>23.610181</td>\n",
       "      <td>27.3</td>\n",
       "      <td>13.6</td>\n",
       "      <td>0.08</td>\n",
       "      <td>2.3</td>\n",
       "      <td>0.6</td>\n",
       "      <td>9.4</td>\n",
       "      <td>16.2</td>\n",
       "      <td>23.0</td>\n",
       "      <td>13.0</td>\n",
       "      <td>0.98</td>\n",
       "      <td>158</td>\n",
       "      <td>2</td>\n",
       "      <td>6038.477155</td>\n",
       "      <td>1426.839831</td>\n",
       "      <td>1</td>\n",
       "    </tr>\n",
       "    <tr>\n",
       "      <th>3</th>\n",
       "      <td>81.564510</td>\n",
       "      <td>43.882221</td>\n",
       "      <td>45.3</td>\n",
       "      <td>12.8</td>\n",
       "      <td>31.00</td>\n",
       "      <td>0.4</td>\n",
       "      <td>8.8</td>\n",
       "      <td>-22.5</td>\n",
       "      <td>-16.1</td>\n",
       "      <td>-9.7</td>\n",
       "      <td>0.9</td>\n",
       "      <td>4.64</td>\n",
       "      <td>178</td>\n",
       "      <td>2</td>\n",
       "      <td>760.703340</td>\n",
       "      <td>0.000000</td>\n",
       "      <td>1</td>\n",
       "    </tr>\n",
       "    <tr>\n",
       "      <th>4</th>\n",
       "      <td>81.161057</td>\n",
       "      <td>43.834976</td>\n",
       "      <td>38.8</td>\n",
       "      <td>13.2</td>\n",
       "      <td>31.00</td>\n",
       "      <td>0.4</td>\n",
       "      <td>10.5</td>\n",
       "      <td>-20.4</td>\n",
       "      <td>-13.8</td>\n",
       "      <td>-7.2</td>\n",
       "      <td>1.2</td>\n",
       "      <td>1.69</td>\n",
       "      <td>185</td>\n",
       "      <td>3</td>\n",
       "      <td>270.367426</td>\n",
       "      <td>0.000000</td>\n",
       "      <td>1</td>\n",
       "    </tr>\n",
       "  </tbody>\n",
       "</table>\n",
       "</div>"
      ],
      "text/plain": [
       "           x          y   cld   dtr    frs  pet   pre   tmn   tmp   tmx   vap  \\\n",
       "0  90.380931  22.437184  41.6  12.8   0.00  2.3   1.7  12.7  19.1  25.5  15.7   \n",
       "1  87.854975  22.986757  40.5  13.3   0.00  2.4   0.0  13.2  19.8  26.5  16.3   \n",
       "2  85.279935  23.610181  27.3  13.6   0.08  2.3   0.6   9.4  16.2  23.0  13.0   \n",
       "3  81.564510  43.882221  45.3  12.8  31.00  0.4   8.8 -22.5 -16.1  -9.7   0.9   \n",
       "4  81.161057  43.834976  38.8  13.2  31.00  0.4  10.5 -20.4 -13.8  -7.2   1.2   \n",
       "\n",
       "    wet  elevation  dominant_land_cover  X5_Ct_2010_Da  X5_Bf_2010_Da  lumpy  \n",
       "0  0.00        147                    2   27970.983100    3691.746950      1  \n",
       "1  0.00        145                    2   25063.646690     671.326701      1  \n",
       "2  0.98        158                    2    6038.477155    1426.839831      1  \n",
       "3  4.64        178                    2     760.703340       0.000000      1  \n",
       "4  1.69        185                    3     270.367426       0.000000      1  "
      ]
     },
     "execution_count": 3,
     "metadata": {},
     "output_type": "execute_result"
    }
   ],
   "source": [
    "data=data.drop(['region','country','reportingDate'],axis=1)\n",
    "data.head()"
   ]
  },
  {
   "cell_type": "code",
   "execution_count": 4,
   "id": "731080cf",
   "metadata": {
    "execution": {
     "iopub.execute_input": "2023-12-15T07:28:43.258117Z",
     "iopub.status.busy": "2023-12-15T07:28:43.257336Z",
     "iopub.status.idle": "2023-12-15T07:28:43.280918Z",
     "shell.execute_reply": "2023-12-15T07:28:43.279159Z"
    },
    "papermill": {
     "duration": 0.036242,
     "end_time": "2023-12-15T07:28:43.283614",
     "exception": false,
     "start_time": "2023-12-15T07:28:43.247372",
     "status": "completed"
    },
    "tags": []
   },
   "outputs": [
    {
     "name": "stdout",
     "output_type": "stream",
     "text": [
      "<class 'pandas.core.frame.DataFrame'>\n",
      "RangeIndex: 24803 entries, 0 to 24802\n",
      "Data columns (total 17 columns):\n",
      " #   Column               Non-Null Count  Dtype  \n",
      "---  ------               --------------  -----  \n",
      " 0   x                    24803 non-null  float64\n",
      " 1   y                    24803 non-null  float64\n",
      " 2   cld                  24803 non-null  float64\n",
      " 3   dtr                  24803 non-null  float64\n",
      " 4   frs                  24803 non-null  float64\n",
      " 5   pet                  24803 non-null  float64\n",
      " 6   pre                  24803 non-null  float64\n",
      " 7   tmn                  24803 non-null  float64\n",
      " 8   tmp                  24803 non-null  float64\n",
      " 9   tmx                  24803 non-null  float64\n",
      " 10  vap                  24803 non-null  float64\n",
      " 11  wet                  24803 non-null  float64\n",
      " 12  elevation            24803 non-null  int64  \n",
      " 13  dominant_land_cover  24803 non-null  int64  \n",
      " 14  X5_Ct_2010_Da        24803 non-null  float64\n",
      " 15  X5_Bf_2010_Da        24803 non-null  float64\n",
      " 16  lumpy                24803 non-null  int64  \n",
      "dtypes: float64(14), int64(3)\n",
      "memory usage: 3.2 MB\n"
     ]
    }
   ],
   "source": [
    "data.info()"
   ]
  },
  {
   "cell_type": "code",
   "execution_count": 5,
   "id": "097343b4",
   "metadata": {
    "execution": {
     "iopub.execute_input": "2023-12-15T07:28:43.304089Z",
     "iopub.status.busy": "2023-12-15T07:28:43.303171Z",
     "iopub.status.idle": "2023-12-15T07:28:43.382876Z",
     "shell.execute_reply": "2023-12-15T07:28:43.381928Z"
    },
    "papermill": {
     "duration": 0.092727,
     "end_time": "2023-12-15T07:28:43.385230",
     "exception": false,
     "start_time": "2023-12-15T07:28:43.292503",
     "status": "completed"
    },
    "tags": []
   },
   "outputs": [
    {
     "data": {
      "text/html": [
       "<div>\n",
       "<style scoped>\n",
       "    .dataframe tbody tr th:only-of-type {\n",
       "        vertical-align: middle;\n",
       "    }\n",
       "\n",
       "    .dataframe tbody tr th {\n",
       "        vertical-align: top;\n",
       "    }\n",
       "\n",
       "    .dataframe thead th {\n",
       "        text-align: right;\n",
       "    }\n",
       "</style>\n",
       "<table border=\"1\" class=\"dataframe\">\n",
       "  <thead>\n",
       "    <tr style=\"text-align: right;\">\n",
       "      <th></th>\n",
       "      <th>x</th>\n",
       "      <th>y</th>\n",
       "      <th>cld</th>\n",
       "      <th>dtr</th>\n",
       "      <th>frs</th>\n",
       "      <th>pet</th>\n",
       "      <th>pre</th>\n",
       "      <th>tmn</th>\n",
       "      <th>tmp</th>\n",
       "      <th>tmx</th>\n",
       "      <th>vap</th>\n",
       "      <th>wet</th>\n",
       "      <th>elevation</th>\n",
       "      <th>dominant_land_cover</th>\n",
       "      <th>X5_Ct_2010_Da</th>\n",
       "      <th>X5_Bf_2010_Da</th>\n",
       "      <th>lumpy</th>\n",
       "    </tr>\n",
       "  </thead>\n",
       "  <tbody>\n",
       "    <tr>\n",
       "      <th>count</th>\n",
       "      <td>24803.000000</td>\n",
       "      <td>24803.000000</td>\n",
       "      <td>24803.000000</td>\n",
       "      <td>24803.000000</td>\n",
       "      <td>24803.000000</td>\n",
       "      <td>24803.000000</td>\n",
       "      <td>24803.000000</td>\n",
       "      <td>24803.000000</td>\n",
       "      <td>24803.000000</td>\n",
       "      <td>24803.000000</td>\n",
       "      <td>24803.000000</td>\n",
       "      <td>24803.000000</td>\n",
       "      <td>24803.000000</td>\n",
       "      <td>24803.000000</td>\n",
       "      <td>24803.000000</td>\n",
       "      <td>24803.000000</td>\n",
       "      <td>24803.000000</td>\n",
       "    </tr>\n",
       "    <tr>\n",
       "      <th>mean</th>\n",
       "      <td>79.221374</td>\n",
       "      <td>46.370056</td>\n",
       "      <td>59.452159</td>\n",
       "      <td>9.107777</td>\n",
       "      <td>23.978048</td>\n",
       "      <td>0.803487</td>\n",
       "      <td>26.271137</td>\n",
       "      <td>-15.794755</td>\n",
       "      <td>-11.227807</td>\n",
       "      <td>-6.681212</td>\n",
       "      <td>3.728230</td>\n",
       "      <td>8.542482</td>\n",
       "      <td>164.769302</td>\n",
       "      <td>4.416119</td>\n",
       "      <td>629.129412</td>\n",
       "      <td>170.306057</td>\n",
       "      <td>0.122526</td>\n",
       "    </tr>\n",
       "    <tr>\n",
       "      <th>std</th>\n",
       "      <td>43.338530</td>\n",
       "      <td>19.220555</td>\n",
       "      <td>19.423029</td>\n",
       "      <td>2.988448</td>\n",
       "      <td>11.518315</td>\n",
       "      <td>1.172915</td>\n",
       "      <td>33.630747</td>\n",
       "      <td>17.587685</td>\n",
       "      <td>17.989715</td>\n",
       "      <td>18.540915</td>\n",
       "      <td>4.952353</td>\n",
       "      <td>6.205199</td>\n",
       "      <td>19.679197</td>\n",
       "      <td>2.406231</td>\n",
       "      <td>2279.198775</td>\n",
       "      <td>1127.977653</td>\n",
       "      <td>0.327898</td>\n",
       "    </tr>\n",
       "    <tr>\n",
       "      <th>min</th>\n",
       "      <td>-179.750000</td>\n",
       "      <td>-28.750000</td>\n",
       "      <td>0.000000</td>\n",
       "      <td>2.000000</td>\n",
       "      <td>0.000000</td>\n",
       "      <td>0.000000</td>\n",
       "      <td>0.000000</td>\n",
       "      <td>-52.100000</td>\n",
       "      <td>-48.100000</td>\n",
       "      <td>-44.200000</td>\n",
       "      <td>0.000000</td>\n",
       "      <td>0.000000</td>\n",
       "      <td>66.000000</td>\n",
       "      <td>0.000000</td>\n",
       "      <td>0.000000</td>\n",
       "      <td>0.000000</td>\n",
       "      <td>0.000000</td>\n",
       "    </tr>\n",
       "    <tr>\n",
       "      <th>25%</th>\n",
       "      <td>45.083150</td>\n",
       "      <td>34.750000</td>\n",
       "      <td>43.800000</td>\n",
       "      <td>6.800000</td>\n",
       "      <td>23.210000</td>\n",
       "      <td>0.000000</td>\n",
       "      <td>5.900000</td>\n",
       "      <td>-30.100000</td>\n",
       "      <td>-25.500000</td>\n",
       "      <td>-20.900000</td>\n",
       "      <td>0.400000</td>\n",
       "      <td>3.000000</td>\n",
       "      <td>152.000000</td>\n",
       "      <td>3.000000</td>\n",
       "      <td>2.513366</td>\n",
       "      <td>0.000000</td>\n",
       "      <td>0.000000</td>\n",
       "    </tr>\n",
       "    <tr>\n",
       "      <th>50%</th>\n",
       "      <td>80.750000</td>\n",
       "      <td>48.250000</td>\n",
       "      <td>62.300000</td>\n",
       "      <td>8.300000</td>\n",
       "      <td>31.000000</td>\n",
       "      <td>0.200000</td>\n",
       "      <td>14.700000</td>\n",
       "      <td>-19.100000</td>\n",
       "      <td>-14.200000</td>\n",
       "      <td>-9.700000</td>\n",
       "      <td>1.500000</td>\n",
       "      <td>8.020000</td>\n",
       "      <td>161.000000</td>\n",
       "      <td>4.000000</td>\n",
       "      <td>43.383823</td>\n",
       "      <td>0.000197</td>\n",
       "      <td>0.000000</td>\n",
       "    </tr>\n",
       "    <tr>\n",
       "      <th>75%</th>\n",
       "      <td>109.750000</td>\n",
       "      <td>61.750000</td>\n",
       "      <td>75.300000</td>\n",
       "      <td>11.100000</td>\n",
       "      <td>31.000000</td>\n",
       "      <td>1.100000</td>\n",
       "      <td>33.400000</td>\n",
       "      <td>-2.200000</td>\n",
       "      <td>1.400000</td>\n",
       "      <td>4.900000</td>\n",
       "      <td>4.800000</td>\n",
       "      <td>12.710000</td>\n",
       "      <td>176.000000</td>\n",
       "      <td>4.000000</td>\n",
       "      <td>386.124908</td>\n",
       "      <td>0.002094</td>\n",
       "      <td>0.000000</td>\n",
       "    </tr>\n",
       "    <tr>\n",
       "      <th>max</th>\n",
       "      <td>179.750000</td>\n",
       "      <td>81.750000</td>\n",
       "      <td>98.700000</td>\n",
       "      <td>20.600000</td>\n",
       "      <td>31.000000</td>\n",
       "      <td>7.500000</td>\n",
       "      <td>341.900000</td>\n",
       "      <td>23.900000</td>\n",
       "      <td>28.500000</td>\n",
       "      <td>36.400000</td>\n",
       "      <td>28.600000</td>\n",
       "      <td>30.920000</td>\n",
       "      <td>249.000000</td>\n",
       "      <td>11.000000</td>\n",
       "      <td>167388.672700</td>\n",
       "      <td>56654.780150</td>\n",
       "      <td>1.000000</td>\n",
       "    </tr>\n",
       "  </tbody>\n",
       "</table>\n",
       "</div>"
      ],
      "text/plain": [
       "                  x             y           cld           dtr           frs  \\\n",
       "count  24803.000000  24803.000000  24803.000000  24803.000000  24803.000000   \n",
       "mean      79.221374     46.370056     59.452159      9.107777     23.978048   \n",
       "std       43.338530     19.220555     19.423029      2.988448     11.518315   \n",
       "min     -179.750000    -28.750000      0.000000      2.000000      0.000000   \n",
       "25%       45.083150     34.750000     43.800000      6.800000     23.210000   \n",
       "50%       80.750000     48.250000     62.300000      8.300000     31.000000   \n",
       "75%      109.750000     61.750000     75.300000     11.100000     31.000000   \n",
       "max      179.750000     81.750000     98.700000     20.600000     31.000000   \n",
       "\n",
       "                pet           pre           tmn           tmp           tmx  \\\n",
       "count  24803.000000  24803.000000  24803.000000  24803.000000  24803.000000   \n",
       "mean       0.803487     26.271137    -15.794755    -11.227807     -6.681212   \n",
       "std        1.172915     33.630747     17.587685     17.989715     18.540915   \n",
       "min        0.000000      0.000000    -52.100000    -48.100000    -44.200000   \n",
       "25%        0.000000      5.900000    -30.100000    -25.500000    -20.900000   \n",
       "50%        0.200000     14.700000    -19.100000    -14.200000     -9.700000   \n",
       "75%        1.100000     33.400000     -2.200000      1.400000      4.900000   \n",
       "max        7.500000    341.900000     23.900000     28.500000     36.400000   \n",
       "\n",
       "                vap           wet     elevation  dominant_land_cover  \\\n",
       "count  24803.000000  24803.000000  24803.000000         24803.000000   \n",
       "mean       3.728230      8.542482    164.769302             4.416119   \n",
       "std        4.952353      6.205199     19.679197             2.406231   \n",
       "min        0.000000      0.000000     66.000000             0.000000   \n",
       "25%        0.400000      3.000000    152.000000             3.000000   \n",
       "50%        1.500000      8.020000    161.000000             4.000000   \n",
       "75%        4.800000     12.710000    176.000000             4.000000   \n",
       "max       28.600000     30.920000    249.000000            11.000000   \n",
       "\n",
       "       X5_Ct_2010_Da  X5_Bf_2010_Da         lumpy  \n",
       "count   24803.000000   24803.000000  24803.000000  \n",
       "mean      629.129412     170.306057      0.122526  \n",
       "std      2279.198775    1127.977653      0.327898  \n",
       "min         0.000000       0.000000      0.000000  \n",
       "25%         2.513366       0.000000      0.000000  \n",
       "50%        43.383823       0.000197      0.000000  \n",
       "75%       386.124908       0.002094      0.000000  \n",
       "max    167388.672700   56654.780150      1.000000  "
      ]
     },
     "execution_count": 5,
     "metadata": {},
     "output_type": "execute_result"
    }
   ],
   "source": [
    "data.describe()"
   ]
  },
  {
   "cell_type": "code",
   "execution_count": 6,
   "id": "7a797203",
   "metadata": {
    "execution": {
     "iopub.execute_input": "2023-12-15T07:28:43.406725Z",
     "iopub.status.busy": "2023-12-15T07:28:43.405877Z",
     "iopub.status.idle": "2023-12-15T07:28:43.453387Z",
     "shell.execute_reply": "2023-12-15T07:28:43.452543Z"
    },
    "papermill": {
     "duration": 0.059799,
     "end_time": "2023-12-15T07:28:43.455585",
     "exception": false,
     "start_time": "2023-12-15T07:28:43.395786",
     "status": "completed"
    },
    "tags": []
   },
   "outputs": [
    {
     "name": "stdout",
     "output_type": "stream",
     "text": [
      "<class 'pandas.core.frame.DataFrame'>\n",
      "Int64Index: 23726 entries, 0 to 24802\n",
      "Data columns (total 17 columns):\n",
      " #   Column               Non-Null Count  Dtype  \n",
      "---  ------               --------------  -----  \n",
      " 0   x                    23726 non-null  float64\n",
      " 1   y                    23726 non-null  float64\n",
      " 2   cld                  23726 non-null  float64\n",
      " 3   dtr                  23726 non-null  float64\n",
      " 4   frs                  23726 non-null  float64\n",
      " 5   pet                  23726 non-null  float64\n",
      " 6   pre                  23726 non-null  float64\n",
      " 7   tmn                  23726 non-null  float64\n",
      " 8   tmp                  23726 non-null  float64\n",
      " 9   tmx                  23726 non-null  float64\n",
      " 10  vap                  23726 non-null  float64\n",
      " 11  wet                  23726 non-null  float64\n",
      " 12  elevation            23726 non-null  int64  \n",
      " 13  dominant_land_cover  23726 non-null  int64  \n",
      " 14  X5_Ct_2010_Da        23726 non-null  float64\n",
      " 15  X5_Bf_2010_Da        23726 non-null  float64\n",
      " 16  lumpy                23726 non-null  int64  \n",
      "dtypes: float64(14), int64(3)\n",
      "memory usage: 3.3 MB\n"
     ]
    }
   ],
   "source": [
    "data.duplicated()\n",
    "data=data.drop_duplicates()\n",
    "data.info()"
   ]
  },
  {
   "cell_type": "code",
   "execution_count": 7,
   "id": "ae36bfff",
   "metadata": {
    "execution": {
     "iopub.execute_input": "2023-12-15T07:28:43.475702Z",
     "iopub.status.busy": "2023-12-15T07:28:43.475312Z",
     "iopub.status.idle": "2023-12-15T07:28:43.485507Z",
     "shell.execute_reply": "2023-12-15T07:28:43.483954Z"
    },
    "papermill": {
     "duration": 0.022962,
     "end_time": "2023-12-15T07:28:43.487809",
     "exception": false,
     "start_time": "2023-12-15T07:28:43.464847",
     "status": "completed"
    },
    "tags": []
   },
   "outputs": [
    {
     "name": "stdout",
     "output_type": "stream",
     "text": [
      "0        0.884949\n",
      "1        0.941290\n",
      "2        1.617371\n",
      "3        0.695442\n",
      "4        1.028361\n",
      "           ...   \n",
      "24798    0.508188\n",
      "24799    0.508188\n",
      "24800    0.508188\n",
      "24801    0.508188\n",
      "24802    0.441604\n",
      "Name: cld, Length: 23726, dtype: float64\n"
     ]
    }
   ],
   "source": [
    "z = np.abs(stats.zscore(data['cld']))\n",
    "print(z)"
   ]
  },
  {
   "cell_type": "code",
   "execution_count": 8,
   "id": "28eb8344",
   "metadata": {
    "execution": {
     "iopub.execute_input": "2023-12-15T07:28:43.508033Z",
     "iopub.status.busy": "2023-12-15T07:28:43.507531Z",
     "iopub.status.idle": "2023-12-15T07:28:43.517511Z",
     "shell.execute_reply": "2023-12-15T07:28:43.516293Z"
    },
    "papermill": {
     "duration": 0.022698,
     "end_time": "2023-12-15T07:28:43.519784",
     "exception": false,
     "start_time": "2023-12-15T07:28:43.497086",
     "status": "completed"
    },
    "tags": []
   },
   "outputs": [
    {
     "name": "stdout",
     "output_type": "stream",
     "text": [
      "cld [17665]\n"
     ]
    }
   ],
   "source": [
    "out=np.where(z>3)[0]\n",
    "print('cld'+ \" \"+str(out))\n",
    "data['cld']=data['cld'].drop(out)"
   ]
  },
  {
   "cell_type": "code",
   "execution_count": 9,
   "id": "0e779f52",
   "metadata": {
    "execution": {
     "iopub.execute_input": "2023-12-15T07:28:43.540525Z",
     "iopub.status.busy": "2023-12-15T07:28:43.539543Z",
     "iopub.status.idle": "2023-12-15T07:28:43.552484Z",
     "shell.execute_reply": "2023-12-15T07:28:43.550855Z"
    },
    "papermill": {
     "duration": 0.026193,
     "end_time": "2023-12-15T07:28:43.555225",
     "exception": false,
     "start_time": "2023-12-15T07:28:43.529032",
     "status": "completed"
    },
    "tags": []
   },
   "outputs": [
    {
     "name": "stdout",
     "output_type": "stream",
     "text": [
      "dtr [17840 17841 17842 17843 17856 17857 17858 17859 17872 17873 17874 17875\n",
      " 17889 19403 19437 19438 19441 19442 19443 19444 19472 19473 19474 19475\n",
      " 19476 19477 19478 19479 19480 19481 19510 19609 19610 19664 19665 19827\n",
      " 20683 20691 20697 22055 22056 22057 22100 22101 22102 22103 22144 22145\n",
      " 22146 22147 22148 22187 22188 22189 22190 22191 22192 22233 22234 22235\n",
      " 22236 22237 22238 22279 22280 22281 22282 22283 22284 22324 22325 22326\n",
      " 22327 22328 22329 22371 22372 22373 22374 22375 22420 22421 22422 22423\n",
      " 22470 22471]\n"
     ]
    }
   ],
   "source": [
    "z = np.abs(stats.zscore(data['dtr']))\n",
    "out=np.where(z>3)[0]\n",
    "print('dtr'+ \" \"+str(out))\n",
    "data['dtr']=data['dtr'].drop(out)"
   ]
  },
  {
   "cell_type": "code",
   "execution_count": 10,
   "id": "c81d8c40",
   "metadata": {
    "execution": {
     "iopub.execute_input": "2023-12-15T07:28:43.576716Z",
     "iopub.status.busy": "2023-12-15T07:28:43.575902Z",
     "iopub.status.idle": "2023-12-15T07:28:43.587461Z",
     "shell.execute_reply": "2023-12-15T07:28:43.586166Z"
    },
    "papermill": {
     "duration": 0.024789,
     "end_time": "2023-12-15T07:28:43.589768",
     "exception": false,
     "start_time": "2023-12-15T07:28:43.564979",
     "status": "completed"
    },
    "tags": []
   },
   "outputs": [
    {
     "name": "stdout",
     "output_type": "stream",
     "text": [
      "frs []\n"
     ]
    }
   ],
   "source": [
    "z = np.abs(stats.zscore(data['frs']))\n",
    "out=np.where(z>3)[0]\n",
    "print('frs'+ \" \"+str(out))\n",
    "data['frs']=data['frs'].drop(out)"
   ]
  },
  {
   "cell_type": "code",
   "execution_count": 11,
   "id": "11aa8a21",
   "metadata": {
    "execution": {
     "iopub.execute_input": "2023-12-15T07:28:43.610398Z",
     "iopub.status.busy": "2023-12-15T07:28:43.609984Z",
     "iopub.status.idle": "2023-12-15T07:28:43.621227Z",
     "shell.execute_reply": "2023-12-15T07:28:43.619974Z"
    },
    "papermill": {
     "duration": 0.024063,
     "end_time": "2023-12-15T07:28:43.623363",
     "exception": false,
     "start_time": "2023-12-15T07:28:43.599300",
     "status": "completed"
    },
    "tags": []
   },
   "outputs": [
    {
     "name": "stdout",
     "output_type": "stream",
     "text": [
      "tmn []\n"
     ]
    }
   ],
   "source": [
    "z = np.abs(stats.zscore(data['tmn']))\n",
    "out=np.where(z>3)[0]\n",
    "print('tmn'+ \" \"+str(out))\n",
    "data['tmn']=data['tmn'].drop(out)"
   ]
  },
  {
   "cell_type": "code",
   "execution_count": 12,
   "id": "8de6504a",
   "metadata": {
    "execution": {
     "iopub.execute_input": "2023-12-15T07:28:43.644759Z",
     "iopub.status.busy": "2023-12-15T07:28:43.644338Z",
     "iopub.status.idle": "2023-12-15T07:28:43.654450Z",
     "shell.execute_reply": "2023-12-15T07:28:43.653390Z"
    },
    "papermill": {
     "duration": 0.023832,
     "end_time": "2023-12-15T07:28:43.656591",
     "exception": false,
     "start_time": "2023-12-15T07:28:43.632759",
     "status": "completed"
    },
    "tags": []
   },
   "outputs": [
    {
     "name": "stdout",
     "output_type": "stream",
     "text": [
      "tmp []\n"
     ]
    }
   ],
   "source": [
    "z = np.abs(stats.zscore(data['tmp']))\n",
    "out=np.where(z>3)[0]\n",
    "print('tmp'+ \" \"+str(out))\n",
    "data['tmp']=data['tmp'].drop(out)"
   ]
  },
  {
   "cell_type": "code",
   "execution_count": 13,
   "id": "0550779a",
   "metadata": {
    "execution": {
     "iopub.execute_input": "2023-12-15T07:28:43.677557Z",
     "iopub.status.busy": "2023-12-15T07:28:43.677117Z",
     "iopub.status.idle": "2023-12-15T07:28:43.690095Z",
     "shell.execute_reply": "2023-12-15T07:28:43.688751Z"
    },
    "papermill": {
     "duration": 0.026057,
     "end_time": "2023-12-15T07:28:43.692293",
     "exception": false,
     "start_time": "2023-12-15T07:28:43.666236",
     "status": "completed"
    },
    "tags": []
   },
   "outputs": [
    {
     "name": "stdout",
     "output_type": "stream",
     "text": [
      "tmx []\n"
     ]
    }
   ],
   "source": [
    "z = np.abs(stats.zscore(data['tmx']))\n",
    "out=np.where(z>3)[0]\n",
    "print('tmx'+ \" \"+str(out))\n",
    "data['tmx']=data['tmx'].drop(out)"
   ]
  },
  {
   "cell_type": "code",
   "execution_count": 14,
   "id": "f516d816",
   "metadata": {
    "execution": {
     "iopub.execute_input": "2023-12-15T07:28:43.713435Z",
     "iopub.status.busy": "2023-12-15T07:28:43.713024Z",
     "iopub.status.idle": "2023-12-15T07:28:43.726241Z",
     "shell.execute_reply": "2023-12-15T07:28:43.724807Z"
    },
    "papermill": {
     "duration": 0.026533,
     "end_time": "2023-12-15T07:28:43.728577",
     "exception": false,
     "start_time": "2023-12-15T07:28:43.702044",
     "status": "completed"
    },
    "tags": []
   },
   "outputs": [
    {
     "name": "stdout",
     "output_type": "stream",
     "text": [
      "wet [23240 23255 23256]\n"
     ]
    }
   ],
   "source": [
    "z = np.abs(stats.zscore(data['wet']))\n",
    "out=np.where(z>3)[0]\n",
    "print('wet'+ \" \"+str(out))\n",
    "data['wet']=data['wet'].drop(out)"
   ]
  },
  {
   "cell_type": "code",
   "execution_count": null,
   "id": "b42954e4",
   "metadata": {
    "papermill": {
     "duration": 0.009333,
     "end_time": "2023-12-15T07:28:43.747621",
     "exception": false,
     "start_time": "2023-12-15T07:28:43.738288",
     "status": "completed"
    },
    "tags": []
   },
   "outputs": [],
   "source": []
  },
  {
   "cell_type": "code",
   "execution_count": 15,
   "id": "aa1a01f7",
   "metadata": {
    "execution": {
     "iopub.execute_input": "2023-12-15T07:28:43.768750Z",
     "iopub.status.busy": "2023-12-15T07:28:43.768342Z",
     "iopub.status.idle": "2023-12-15T07:28:43.778253Z",
     "shell.execute_reply": "2023-12-15T07:28:43.777402Z"
    },
    "papermill": {
     "duration": 0.022866,
     "end_time": "2023-12-15T07:28:43.780239",
     "exception": false,
     "start_time": "2023-12-15T07:28:43.757373",
     "status": "completed"
    },
    "tags": []
   },
   "outputs": [
    {
     "name": "stdout",
     "output_type": "stream",
     "text": [
      "dominant_land_cover []\n"
     ]
    }
   ],
   "source": [
    "z = np.abs(stats.zscore(data['dominant_land_cover']))\n",
    "out=np.where(z>3)[0]\n",
    "print('dominant_land_cover'+ \" \"+str(out))\n",
    "data['dominant_land_cover']=data['dominant_land_cover'].drop(out)"
   ]
  },
  {
   "cell_type": "code",
   "execution_count": 16,
   "id": "3d623582",
   "metadata": {
    "execution": {
     "iopub.execute_input": "2023-12-15T07:28:43.801725Z",
     "iopub.status.busy": "2023-12-15T07:28:43.801302Z",
     "iopub.status.idle": "2023-12-15T07:28:43.817153Z",
     "shell.execute_reply": "2023-12-15T07:28:43.815345Z"
    },
    "papermill": {
     "duration": 0.029929,
     "end_time": "2023-12-15T07:28:43.820013",
     "exception": false,
     "start_time": "2023-12-15T07:28:43.790084",
     "status": "completed"
    },
    "tags": []
   },
   "outputs": [
    {
     "name": "stdout",
     "output_type": "stream",
     "text": [
      "<class 'pandas.core.frame.DataFrame'>\n",
      "Int64Index: 23726 entries, 0 to 24802\n",
      "Data columns (total 17 columns):\n",
      " #   Column               Non-Null Count  Dtype  \n",
      "---  ------               --------------  -----  \n",
      " 0   x                    23726 non-null  float64\n",
      " 1   y                    23726 non-null  float64\n",
      " 2   cld                  23725 non-null  float64\n",
      " 3   dtr                  23640 non-null  float64\n",
      " 4   frs                  23726 non-null  float64\n",
      " 5   pet                  23726 non-null  float64\n",
      " 6   pre                  23726 non-null  float64\n",
      " 7   tmn                  23726 non-null  float64\n",
      " 8   tmp                  23726 non-null  float64\n",
      " 9   tmx                  23726 non-null  float64\n",
      " 10  vap                  23726 non-null  float64\n",
      " 11  wet                  23723 non-null  float64\n",
      " 12  elevation            23726 non-null  int64  \n",
      " 13  dominant_land_cover  23726 non-null  int64  \n",
      " 14  X5_Ct_2010_Da        23726 non-null  float64\n",
      " 15  X5_Bf_2010_Da        23726 non-null  float64\n",
      " 16  lumpy                23726 non-null  int64  \n",
      "dtypes: float64(14), int64(3)\n",
      "memory usage: 3.8 MB\n"
     ]
    }
   ],
   "source": [
    "data.info()"
   ]
  },
  {
   "cell_type": "code",
   "execution_count": 17,
   "id": "b9166e27",
   "metadata": {
    "execution": {
     "iopub.execute_input": "2023-12-15T07:28:43.842605Z",
     "iopub.status.busy": "2023-12-15T07:28:43.842211Z",
     "iopub.status.idle": "2023-12-15T07:28:43.859273Z",
     "shell.execute_reply": "2023-12-15T07:28:43.858144Z"
    },
    "papermill": {
     "duration": 0.031286,
     "end_time": "2023-12-15T07:28:43.861641",
     "exception": false,
     "start_time": "2023-12-15T07:28:43.830355",
     "status": "completed"
    },
    "tags": []
   },
   "outputs": [
    {
     "data": {
      "text/plain": [
       "x                      0\n",
       "y                      0\n",
       "cld                    0\n",
       "dtr                    0\n",
       "frs                    0\n",
       "pet                    0\n",
       "pre                    0\n",
       "tmn                    0\n",
       "tmp                    0\n",
       "tmx                    0\n",
       "vap                    0\n",
       "wet                    0\n",
       "elevation              0\n",
       "dominant_land_cover    0\n",
       "X5_Ct_2010_Da          0\n",
       "X5_Bf_2010_Da          0\n",
       "lumpy                  0\n",
       "dtype: int64"
      ]
     },
     "execution_count": 17,
     "metadata": {},
     "output_type": "execute_result"
    }
   ],
   "source": [
    "data=data.fillna(method='bfill')\n",
    "data.isnull().sum()"
   ]
  },
  {
   "cell_type": "code",
   "execution_count": 18,
   "id": "f43353a9",
   "metadata": {
    "execution": {
     "iopub.execute_input": "2023-12-15T07:28:43.883475Z",
     "iopub.status.busy": "2023-12-15T07:28:43.883030Z",
     "iopub.status.idle": "2023-12-15T07:28:43.898251Z",
     "shell.execute_reply": "2023-12-15T07:28:43.897069Z"
    },
    "papermill": {
     "duration": 0.028935,
     "end_time": "2023-12-15T07:28:43.900663",
     "exception": false,
     "start_time": "2023-12-15T07:28:43.871728",
     "status": "completed"
    },
    "tags": []
   },
   "outputs": [
    {
     "name": "stdout",
     "output_type": "stream",
     "text": [
      "<class 'pandas.core.frame.DataFrame'>\n",
      "Int64Index: 23726 entries, 0 to 24802\n",
      "Data columns (total 17 columns):\n",
      " #   Column               Non-Null Count  Dtype  \n",
      "---  ------               --------------  -----  \n",
      " 0   x                    23726 non-null  float64\n",
      " 1   y                    23726 non-null  float64\n",
      " 2   cld                  23726 non-null  float64\n",
      " 3   dtr                  23726 non-null  float64\n",
      " 4   frs                  23726 non-null  float64\n",
      " 5   pet                  23726 non-null  float64\n",
      " 6   pre                  23726 non-null  float64\n",
      " 7   tmn                  23726 non-null  float64\n",
      " 8   tmp                  23726 non-null  float64\n",
      " 9   tmx                  23726 non-null  float64\n",
      " 10  vap                  23726 non-null  float64\n",
      " 11  wet                  23726 non-null  float64\n",
      " 12  elevation            23726 non-null  int64  \n",
      " 13  dominant_land_cover  23726 non-null  int64  \n",
      " 14  X5_Ct_2010_Da        23726 non-null  float64\n",
      " 15  X5_Bf_2010_Da        23726 non-null  float64\n",
      " 16  lumpy                23726 non-null  int64  \n",
      "dtypes: float64(14), int64(3)\n",
      "memory usage: 3.8 MB\n"
     ]
    }
   ],
   "source": [
    "data.info()"
   ]
  },
  {
   "cell_type": "code",
   "execution_count": 19,
   "id": "60487c90",
   "metadata": {
    "execution": {
     "iopub.execute_input": "2023-12-15T07:28:43.923554Z",
     "iopub.status.busy": "2023-12-15T07:28:43.922745Z",
     "iopub.status.idle": "2023-12-15T07:28:43.998345Z",
     "shell.execute_reply": "2023-12-15T07:28:43.996794Z"
    },
    "papermill": {
     "duration": 0.090242,
     "end_time": "2023-12-15T07:28:44.001077",
     "exception": false,
     "start_time": "2023-12-15T07:28:43.910835",
     "status": "completed"
    },
    "tags": []
   },
   "outputs": [
    {
     "data": {
      "text/html": [
       "<div>\n",
       "<style scoped>\n",
       "    .dataframe tbody tr th:only-of-type {\n",
       "        vertical-align: middle;\n",
       "    }\n",
       "\n",
       "    .dataframe tbody tr th {\n",
       "        vertical-align: top;\n",
       "    }\n",
       "\n",
       "    .dataframe thead th {\n",
       "        text-align: right;\n",
       "    }\n",
       "</style>\n",
       "<table border=\"1\" class=\"dataframe\">\n",
       "  <thead>\n",
       "    <tr style=\"text-align: right;\">\n",
       "      <th></th>\n",
       "      <th>x</th>\n",
       "      <th>y</th>\n",
       "      <th>cld</th>\n",
       "      <th>dtr</th>\n",
       "      <th>frs</th>\n",
       "      <th>pet</th>\n",
       "      <th>pre</th>\n",
       "      <th>tmn</th>\n",
       "      <th>tmp</th>\n",
       "      <th>tmx</th>\n",
       "      <th>vap</th>\n",
       "      <th>wet</th>\n",
       "      <th>elevation</th>\n",
       "      <th>dominant_land_cover</th>\n",
       "      <th>X5_Ct_2010_Da</th>\n",
       "      <th>X5_Bf_2010_Da</th>\n",
       "      <th>lumpy</th>\n",
       "    </tr>\n",
       "  </thead>\n",
       "  <tbody>\n",
       "    <tr>\n",
       "      <th>count</th>\n",
       "      <td>23726.000000</td>\n",
       "      <td>23726.000000</td>\n",
       "      <td>23726.000000</td>\n",
       "      <td>23726.000000</td>\n",
       "      <td>23726.000000</td>\n",
       "      <td>23726.000000</td>\n",
       "      <td>23726.00000</td>\n",
       "      <td>23726.000000</td>\n",
       "      <td>23726.000000</td>\n",
       "      <td>23726.000000</td>\n",
       "      <td>23726.000000</td>\n",
       "      <td>23726.000000</td>\n",
       "      <td>23726.000000</td>\n",
       "      <td>23726.000000</td>\n",
       "      <td>23726.000000</td>\n",
       "      <td>23726.000000</td>\n",
       "      <td>23726.000000</td>\n",
       "    </tr>\n",
       "    <tr>\n",
       "      <th>mean</th>\n",
       "      <td>81.650640</td>\n",
       "      <td>46.713851</td>\n",
       "      <td>58.878049</td>\n",
       "      <td>9.186369</td>\n",
       "      <td>24.323759</td>\n",
       "      <td>0.790706</td>\n",
       "      <td>23.66997</td>\n",
       "      <td>-16.532134</td>\n",
       "      <td>-11.925200</td>\n",
       "      <td>-7.341225</td>\n",
       "      <td>3.606567</td>\n",
       "      <td>8.429518</td>\n",
       "      <td>165.048639</td>\n",
       "      <td>4.462109</td>\n",
       "      <td>607.376686</td>\n",
       "      <td>177.387344</td>\n",
       "      <td>0.082694</td>\n",
       "    </tr>\n",
       "    <tr>\n",
       "      <th>std</th>\n",
       "      <td>42.662488</td>\n",
       "      <td>19.523079</td>\n",
       "      <td>19.524745</td>\n",
       "      <td>3.020401</td>\n",
       "      <td>11.445471</td>\n",
       "      <td>1.191336</td>\n",
       "      <td>31.18951</td>\n",
       "      <td>17.584537</td>\n",
       "      <td>18.034221</td>\n",
       "      <td>18.631599</td>\n",
       "      <td>4.988081</td>\n",
       "      <td>6.294418</td>\n",
       "      <td>19.667688</td>\n",
       "      <td>2.428974</td>\n",
       "      <td>2306.953489</td>\n",
       "      <td>1151.199706</td>\n",
       "      <td>0.275425</td>\n",
       "    </tr>\n",
       "    <tr>\n",
       "      <th>min</th>\n",
       "      <td>-179.750000</td>\n",
       "      <td>-28.750000</td>\n",
       "      <td>0.000000</td>\n",
       "      <td>2.000000</td>\n",
       "      <td>0.000000</td>\n",
       "      <td>0.000000</td>\n",
       "      <td>0.00000</td>\n",
       "      <td>-52.100000</td>\n",
       "      <td>-48.100000</td>\n",
       "      <td>-44.200000</td>\n",
       "      <td>0.000000</td>\n",
       "      <td>0.000000</td>\n",
       "      <td>66.000000</td>\n",
       "      <td>0.000000</td>\n",
       "      <td>0.000000</td>\n",
       "      <td>0.000000</td>\n",
       "      <td>0.000000</td>\n",
       "    </tr>\n",
       "    <tr>\n",
       "      <th>25%</th>\n",
       "      <td>47.937766</td>\n",
       "      <td>34.750000</td>\n",
       "      <td>43.100000</td>\n",
       "      <td>6.900000</td>\n",
       "      <td>24.030000</td>\n",
       "      <td>0.000000</td>\n",
       "      <td>5.50000</td>\n",
       "      <td>-31.000000</td>\n",
       "      <td>-26.300000</td>\n",
       "      <td>-21.500000</td>\n",
       "      <td>0.400000</td>\n",
       "      <td>2.800000</td>\n",
       "      <td>152.000000</td>\n",
       "      <td>3.000000</td>\n",
       "      <td>2.297115</td>\n",
       "      <td>0.000000</td>\n",
       "      <td>0.000000</td>\n",
       "    </tr>\n",
       "    <tr>\n",
       "      <th>50%</th>\n",
       "      <td>82.750000</td>\n",
       "      <td>49.750000</td>\n",
       "      <td>61.400000</td>\n",
       "      <td>8.300000</td>\n",
       "      <td>31.000000</td>\n",
       "      <td>0.200000</td>\n",
       "      <td>13.80000</td>\n",
       "      <td>-20.300000</td>\n",
       "      <td>-15.300000</td>\n",
       "      <td>-10.800000</td>\n",
       "      <td>1.300000</td>\n",
       "      <td>7.710000</td>\n",
       "      <td>161.000000</td>\n",
       "      <td>4.000000</td>\n",
       "      <td>33.212788</td>\n",
       "      <td>0.000219</td>\n",
       "      <td>0.000000</td>\n",
       "    </tr>\n",
       "    <tr>\n",
       "      <th>75%</th>\n",
       "      <td>111.250000</td>\n",
       "      <td>62.250000</td>\n",
       "      <td>74.800000</td>\n",
       "      <td>11.300000</td>\n",
       "      <td>31.000000</td>\n",
       "      <td>1.100000</td>\n",
       "      <td>29.80000</td>\n",
       "      <td>-2.900000</td>\n",
       "      <td>0.700000</td>\n",
       "      <td>4.300000</td>\n",
       "      <td>4.600000</td>\n",
       "      <td>12.787500</td>\n",
       "      <td>176.000000</td>\n",
       "      <td>4.000000</td>\n",
       "      <td>301.749631</td>\n",
       "      <td>0.002289</td>\n",
       "      <td>0.000000</td>\n",
       "    </tr>\n",
       "    <tr>\n",
       "      <th>max</th>\n",
       "      <td>179.750000</td>\n",
       "      <td>81.750000</td>\n",
       "      <td>98.700000</td>\n",
       "      <td>20.600000</td>\n",
       "      <td>31.000000</td>\n",
       "      <td>7.500000</td>\n",
       "      <td>341.90000</td>\n",
       "      <td>23.900000</td>\n",
       "      <td>28.500000</td>\n",
       "      <td>36.400000</td>\n",
       "      <td>28.600000</td>\n",
       "      <td>30.920000</td>\n",
       "      <td>249.000000</td>\n",
       "      <td>11.000000</td>\n",
       "      <td>167388.672700</td>\n",
       "      <td>56654.780150</td>\n",
       "      <td>1.000000</td>\n",
       "    </tr>\n",
       "  </tbody>\n",
       "</table>\n",
       "</div>"
      ],
      "text/plain": [
       "                  x             y           cld           dtr           frs  \\\n",
       "count  23726.000000  23726.000000  23726.000000  23726.000000  23726.000000   \n",
       "mean      81.650640     46.713851     58.878049      9.186369     24.323759   \n",
       "std       42.662488     19.523079     19.524745      3.020401     11.445471   \n",
       "min     -179.750000    -28.750000      0.000000      2.000000      0.000000   \n",
       "25%       47.937766     34.750000     43.100000      6.900000     24.030000   \n",
       "50%       82.750000     49.750000     61.400000      8.300000     31.000000   \n",
       "75%      111.250000     62.250000     74.800000     11.300000     31.000000   \n",
       "max      179.750000     81.750000     98.700000     20.600000     31.000000   \n",
       "\n",
       "                pet          pre           tmn           tmp           tmx  \\\n",
       "count  23726.000000  23726.00000  23726.000000  23726.000000  23726.000000   \n",
       "mean       0.790706     23.66997    -16.532134    -11.925200     -7.341225   \n",
       "std        1.191336     31.18951     17.584537     18.034221     18.631599   \n",
       "min        0.000000      0.00000    -52.100000    -48.100000    -44.200000   \n",
       "25%        0.000000      5.50000    -31.000000    -26.300000    -21.500000   \n",
       "50%        0.200000     13.80000    -20.300000    -15.300000    -10.800000   \n",
       "75%        1.100000     29.80000     -2.900000      0.700000      4.300000   \n",
       "max        7.500000    341.90000     23.900000     28.500000     36.400000   \n",
       "\n",
       "                vap           wet     elevation  dominant_land_cover  \\\n",
       "count  23726.000000  23726.000000  23726.000000         23726.000000   \n",
       "mean       3.606567      8.429518    165.048639             4.462109   \n",
       "std        4.988081      6.294418     19.667688             2.428974   \n",
       "min        0.000000      0.000000     66.000000             0.000000   \n",
       "25%        0.400000      2.800000    152.000000             3.000000   \n",
       "50%        1.300000      7.710000    161.000000             4.000000   \n",
       "75%        4.600000     12.787500    176.000000             4.000000   \n",
       "max       28.600000     30.920000    249.000000            11.000000   \n",
       "\n",
       "       X5_Ct_2010_Da  X5_Bf_2010_Da         lumpy  \n",
       "count   23726.000000   23726.000000  23726.000000  \n",
       "mean      607.376686     177.387344      0.082694  \n",
       "std      2306.953489    1151.199706      0.275425  \n",
       "min         0.000000       0.000000      0.000000  \n",
       "25%         2.297115       0.000000      0.000000  \n",
       "50%        33.212788       0.000219      0.000000  \n",
       "75%       301.749631       0.002289      0.000000  \n",
       "max    167388.672700   56654.780150      1.000000  "
      ]
     },
     "execution_count": 19,
     "metadata": {},
     "output_type": "execute_result"
    }
   ],
   "source": [
    "data.describe()"
   ]
  },
  {
   "cell_type": "code",
   "execution_count": 20,
   "id": "cfd51755",
   "metadata": {
    "execution": {
     "iopub.execute_input": "2023-12-15T07:28:44.024642Z",
     "iopub.status.busy": "2023-12-15T07:28:44.024218Z",
     "iopub.status.idle": "2023-12-15T07:28:44.048516Z",
     "shell.execute_reply": "2023-12-15T07:28:44.047257Z"
    },
    "papermill": {
     "duration": 0.039552,
     "end_time": "2023-12-15T07:28:44.051130",
     "exception": false,
     "start_time": "2023-12-15T07:28:44.011578",
     "status": "completed"
    },
    "tags": []
   },
   "outputs": [
    {
     "data": {
      "text/html": [
       "<div>\n",
       "<style scoped>\n",
       "    .dataframe tbody tr th:only-of-type {\n",
       "        vertical-align: middle;\n",
       "    }\n",
       "\n",
       "    .dataframe tbody tr th {\n",
       "        vertical-align: top;\n",
       "    }\n",
       "\n",
       "    .dataframe thead th {\n",
       "        text-align: right;\n",
       "    }\n",
       "</style>\n",
       "<table border=\"1\" class=\"dataframe\">\n",
       "  <thead>\n",
       "    <tr style=\"text-align: right;\">\n",
       "      <th></th>\n",
       "      <th>x</th>\n",
       "      <th>y</th>\n",
       "      <th>cld</th>\n",
       "      <th>dtr</th>\n",
       "      <th>frs</th>\n",
       "      <th>pet</th>\n",
       "      <th>pre</th>\n",
       "      <th>tmn</th>\n",
       "      <th>tmp</th>\n",
       "      <th>tmx</th>\n",
       "      <th>vap</th>\n",
       "      <th>wet</th>\n",
       "      <th>elevation</th>\n",
       "      <th>dominant_land_cover</th>\n",
       "      <th>X5_Ct_2010_Da</th>\n",
       "      <th>X5_Bf_2010_Da</th>\n",
       "      <th>lumpy</th>\n",
       "    </tr>\n",
       "  </thead>\n",
       "  <tbody>\n",
       "    <tr>\n",
       "      <th>0</th>\n",
       "      <td>90.380931</td>\n",
       "      <td>22.437184</td>\n",
       "      <td>41.6</td>\n",
       "      <td>12.8</td>\n",
       "      <td>0.00</td>\n",
       "      <td>2.3</td>\n",
       "      <td>1.7</td>\n",
       "      <td>12.7</td>\n",
       "      <td>19.1</td>\n",
       "      <td>25.5</td>\n",
       "      <td>15.7</td>\n",
       "      <td>0.00</td>\n",
       "      <td>147</td>\n",
       "      <td>2</td>\n",
       "      <td>27970.983100</td>\n",
       "      <td>3691.746950</td>\n",
       "      <td>1</td>\n",
       "    </tr>\n",
       "    <tr>\n",
       "      <th>1</th>\n",
       "      <td>87.854975</td>\n",
       "      <td>22.986757</td>\n",
       "      <td>40.5</td>\n",
       "      <td>13.3</td>\n",
       "      <td>0.00</td>\n",
       "      <td>2.4</td>\n",
       "      <td>0.0</td>\n",
       "      <td>13.2</td>\n",
       "      <td>19.8</td>\n",
       "      <td>26.5</td>\n",
       "      <td>16.3</td>\n",
       "      <td>0.00</td>\n",
       "      <td>145</td>\n",
       "      <td>2</td>\n",
       "      <td>25063.646690</td>\n",
       "      <td>671.326701</td>\n",
       "      <td>1</td>\n",
       "    </tr>\n",
       "    <tr>\n",
       "      <th>2</th>\n",
       "      <td>85.279935</td>\n",
       "      <td>23.610181</td>\n",
       "      <td>27.3</td>\n",
       "      <td>13.6</td>\n",
       "      <td>0.08</td>\n",
       "      <td>2.3</td>\n",
       "      <td>0.6</td>\n",
       "      <td>9.4</td>\n",
       "      <td>16.2</td>\n",
       "      <td>23.0</td>\n",
       "      <td>13.0</td>\n",
       "      <td>0.98</td>\n",
       "      <td>158</td>\n",
       "      <td>2</td>\n",
       "      <td>6038.477155</td>\n",
       "      <td>1426.839831</td>\n",
       "      <td>1</td>\n",
       "    </tr>\n",
       "    <tr>\n",
       "      <th>3</th>\n",
       "      <td>81.564510</td>\n",
       "      <td>43.882221</td>\n",
       "      <td>45.3</td>\n",
       "      <td>12.8</td>\n",
       "      <td>31.00</td>\n",
       "      <td>0.4</td>\n",
       "      <td>8.8</td>\n",
       "      <td>-22.5</td>\n",
       "      <td>-16.1</td>\n",
       "      <td>-9.7</td>\n",
       "      <td>0.9</td>\n",
       "      <td>4.64</td>\n",
       "      <td>178</td>\n",
       "      <td>2</td>\n",
       "      <td>760.703340</td>\n",
       "      <td>0.000000</td>\n",
       "      <td>1</td>\n",
       "    </tr>\n",
       "    <tr>\n",
       "      <th>4</th>\n",
       "      <td>81.161057</td>\n",
       "      <td>43.834976</td>\n",
       "      <td>38.8</td>\n",
       "      <td>13.2</td>\n",
       "      <td>31.00</td>\n",
       "      <td>0.4</td>\n",
       "      <td>10.5</td>\n",
       "      <td>-20.4</td>\n",
       "      <td>-13.8</td>\n",
       "      <td>-7.2</td>\n",
       "      <td>1.2</td>\n",
       "      <td>1.69</td>\n",
       "      <td>185</td>\n",
       "      <td>3</td>\n",
       "      <td>270.367426</td>\n",
       "      <td>0.000000</td>\n",
       "      <td>1</td>\n",
       "    </tr>\n",
       "  </tbody>\n",
       "</table>\n",
       "</div>"
      ],
      "text/plain": [
       "           x          y   cld   dtr    frs  pet   pre   tmn   tmp   tmx   vap  \\\n",
       "0  90.380931  22.437184  41.6  12.8   0.00  2.3   1.7  12.7  19.1  25.5  15.7   \n",
       "1  87.854975  22.986757  40.5  13.3   0.00  2.4   0.0  13.2  19.8  26.5  16.3   \n",
       "2  85.279935  23.610181  27.3  13.6   0.08  2.3   0.6   9.4  16.2  23.0  13.0   \n",
       "3  81.564510  43.882221  45.3  12.8  31.00  0.4   8.8 -22.5 -16.1  -9.7   0.9   \n",
       "4  81.161057  43.834976  38.8  13.2  31.00  0.4  10.5 -20.4 -13.8  -7.2   1.2   \n",
       "\n",
       "    wet  elevation  dominant_land_cover  X5_Ct_2010_Da  X5_Bf_2010_Da  lumpy  \n",
       "0  0.00        147                    2   27970.983100    3691.746950      1  \n",
       "1  0.00        145                    2   25063.646690     671.326701      1  \n",
       "2  0.98        158                    2    6038.477155    1426.839831      1  \n",
       "3  4.64        178                    2     760.703340       0.000000      1  \n",
       "4  1.69        185                    3     270.367426       0.000000      1  "
      ]
     },
     "execution_count": 20,
     "metadata": {},
     "output_type": "execute_result"
    }
   ],
   "source": [
    "data.head()"
   ]
  },
  {
   "cell_type": "code",
   "execution_count": 21,
   "id": "a49e3f45",
   "metadata": {
    "execution": {
     "iopub.execute_input": "2023-12-15T07:28:44.074908Z",
     "iopub.status.busy": "2023-12-15T07:28:44.073733Z",
     "iopub.status.idle": "2023-12-15T07:28:44.115666Z",
     "shell.execute_reply": "2023-12-15T07:28:44.114476Z"
    },
    "papermill": {
     "duration": 0.056335,
     "end_time": "2023-12-15T07:28:44.118233",
     "exception": false,
     "start_time": "2023-12-15T07:28:44.061898",
     "status": "completed"
    },
    "tags": []
   },
   "outputs": [
    {
     "data": {
      "text/html": [
       "<div>\n",
       "<style scoped>\n",
       "    .dataframe tbody tr th:only-of-type {\n",
       "        vertical-align: middle;\n",
       "    }\n",
       "\n",
       "    .dataframe tbody tr th {\n",
       "        vertical-align: top;\n",
       "    }\n",
       "\n",
       "    .dataframe thead th {\n",
       "        text-align: right;\n",
       "    }\n",
       "</style>\n",
       "<table border=\"1\" class=\"dataframe\">\n",
       "  <thead>\n",
       "    <tr style=\"text-align: right;\">\n",
       "      <th></th>\n",
       "      <th>x</th>\n",
       "      <th>y</th>\n",
       "      <th>cld</th>\n",
       "      <th>dtr</th>\n",
       "      <th>frs</th>\n",
       "      <th>pet</th>\n",
       "      <th>pre</th>\n",
       "      <th>tmn</th>\n",
       "      <th>tmp</th>\n",
       "      <th>tmx</th>\n",
       "      <th>vap</th>\n",
       "      <th>wet</th>\n",
       "      <th>elevation</th>\n",
       "      <th>dominant_land_cover</th>\n",
       "      <th>X5_Ct_2010_Da</th>\n",
       "      <th>X5_Bf_2010_Da</th>\n",
       "      <th>lumpy</th>\n",
       "    </tr>\n",
       "  </thead>\n",
       "  <tbody>\n",
       "    <tr>\n",
       "      <th>0</th>\n",
       "      <td>0.751407</td>\n",
       "      <td>0.463232</td>\n",
       "      <td>0.421479</td>\n",
       "      <td>0.580645</td>\n",
       "      <td>0.000000</td>\n",
       "      <td>0.306667</td>\n",
       "      <td>0.004972</td>\n",
       "      <td>0.852632</td>\n",
       "      <td>0.877285</td>\n",
       "      <td>0.864764</td>\n",
       "      <td>0.548951</td>\n",
       "      <td>0.000000</td>\n",
       "      <td>0.442623</td>\n",
       "      <td>0.181818</td>\n",
       "      <td>0.167102</td>\n",
       "      <td>0.065162</td>\n",
       "      <td>1.0</td>\n",
       "    </tr>\n",
       "    <tr>\n",
       "      <th>1</th>\n",
       "      <td>0.744381</td>\n",
       "      <td>0.468206</td>\n",
       "      <td>0.410334</td>\n",
       "      <td>0.607527</td>\n",
       "      <td>0.000000</td>\n",
       "      <td>0.320000</td>\n",
       "      <td>0.000000</td>\n",
       "      <td>0.859211</td>\n",
       "      <td>0.886423</td>\n",
       "      <td>0.877171</td>\n",
       "      <td>0.569930</td>\n",
       "      <td>0.000000</td>\n",
       "      <td>0.431694</td>\n",
       "      <td>0.181818</td>\n",
       "      <td>0.149733</td>\n",
       "      <td>0.011849</td>\n",
       "      <td>1.0</td>\n",
       "    </tr>\n",
       "    <tr>\n",
       "      <th>2</th>\n",
       "      <td>0.737218</td>\n",
       "      <td>0.473848</td>\n",
       "      <td>0.276596</td>\n",
       "      <td>0.623656</td>\n",
       "      <td>0.002581</td>\n",
       "      <td>0.306667</td>\n",
       "      <td>0.001755</td>\n",
       "      <td>0.809211</td>\n",
       "      <td>0.839426</td>\n",
       "      <td>0.833747</td>\n",
       "      <td>0.454545</td>\n",
       "      <td>0.031695</td>\n",
       "      <td>0.502732</td>\n",
       "      <td>0.181818</td>\n",
       "      <td>0.036075</td>\n",
       "      <td>0.025185</td>\n",
       "      <td>1.0</td>\n",
       "    </tr>\n",
       "    <tr>\n",
       "      <th>3</th>\n",
       "      <td>0.726883</td>\n",
       "      <td>0.657305</td>\n",
       "      <td>0.458967</td>\n",
       "      <td>0.580645</td>\n",
       "      <td>1.000000</td>\n",
       "      <td>0.053333</td>\n",
       "      <td>0.025739</td>\n",
       "      <td>0.389474</td>\n",
       "      <td>0.417755</td>\n",
       "      <td>0.428040</td>\n",
       "      <td>0.031469</td>\n",
       "      <td>0.150065</td>\n",
       "      <td>0.612022</td>\n",
       "      <td>0.181818</td>\n",
       "      <td>0.004545</td>\n",
       "      <td>0.000000</td>\n",
       "      <td>1.0</td>\n",
       "    </tr>\n",
       "    <tr>\n",
       "      <th>4</th>\n",
       "      <td>0.725761</td>\n",
       "      <td>0.656878</td>\n",
       "      <td>0.393110</td>\n",
       "      <td>0.602151</td>\n",
       "      <td>1.000000</td>\n",
       "      <td>0.053333</td>\n",
       "      <td>0.030711</td>\n",
       "      <td>0.417105</td>\n",
       "      <td>0.447781</td>\n",
       "      <td>0.459057</td>\n",
       "      <td>0.041958</td>\n",
       "      <td>0.054657</td>\n",
       "      <td>0.650273</td>\n",
       "      <td>0.272727</td>\n",
       "      <td>0.001615</td>\n",
       "      <td>0.000000</td>\n",
       "      <td>1.0</td>\n",
       "    </tr>\n",
       "  </tbody>\n",
       "</table>\n",
       "</div>"
      ],
      "text/plain": [
       "          x         y       cld       dtr       frs       pet       pre  \\\n",
       "0  0.751407  0.463232  0.421479  0.580645  0.000000  0.306667  0.004972   \n",
       "1  0.744381  0.468206  0.410334  0.607527  0.000000  0.320000  0.000000   \n",
       "2  0.737218  0.473848  0.276596  0.623656  0.002581  0.306667  0.001755   \n",
       "3  0.726883  0.657305  0.458967  0.580645  1.000000  0.053333  0.025739   \n",
       "4  0.725761  0.656878  0.393110  0.602151  1.000000  0.053333  0.030711   \n",
       "\n",
       "        tmn       tmp       tmx       vap       wet  elevation  \\\n",
       "0  0.852632  0.877285  0.864764  0.548951  0.000000   0.442623   \n",
       "1  0.859211  0.886423  0.877171  0.569930  0.000000   0.431694   \n",
       "2  0.809211  0.839426  0.833747  0.454545  0.031695   0.502732   \n",
       "3  0.389474  0.417755  0.428040  0.031469  0.150065   0.612022   \n",
       "4  0.417105  0.447781  0.459057  0.041958  0.054657   0.650273   \n",
       "\n",
       "   dominant_land_cover  X5_Ct_2010_Da  X5_Bf_2010_Da  lumpy  \n",
       "0             0.181818       0.167102       0.065162    1.0  \n",
       "1             0.181818       0.149733       0.011849    1.0  \n",
       "2             0.181818       0.036075       0.025185    1.0  \n",
       "3             0.181818       0.004545       0.000000    1.0  \n",
       "4             0.272727       0.001615       0.000000    1.0  "
      ]
     },
     "execution_count": 21,
     "metadata": {},
     "output_type": "execute_result"
    }
   ],
   "source": [
    "for column in data.columns:\n",
    "    data[column] = (data[column] - data[column].min()) / (data[column].max() - data[column].min()) \n",
    "data.head()"
   ]
  },
  {
   "cell_type": "code",
   "execution_count": 22,
   "id": "2daa76bb",
   "metadata": {
    "execution": {
     "iopub.execute_input": "2023-12-15T07:28:44.141721Z",
     "iopub.status.busy": "2023-12-15T07:28:44.141295Z",
     "iopub.status.idle": "2023-12-15T07:28:44.155817Z",
     "shell.execute_reply": "2023-12-15T07:28:44.154431Z"
    },
    "papermill": {
     "duration": 0.029146,
     "end_time": "2023-12-15T07:28:44.158248",
     "exception": false,
     "start_time": "2023-12-15T07:28:44.129102",
     "status": "completed"
    },
    "tags": []
   },
   "outputs": [
    {
     "name": "stdout",
     "output_type": "stream",
     "text": [
      "<class 'pandas.core.frame.DataFrame'>\n",
      "Int64Index: 23726 entries, 0 to 24802\n",
      "Data columns (total 17 columns):\n",
      " #   Column               Non-Null Count  Dtype  \n",
      "---  ------               --------------  -----  \n",
      " 0   x                    23726 non-null  float64\n",
      " 1   y                    23726 non-null  float64\n",
      " 2   cld                  23726 non-null  float64\n",
      " 3   dtr                  23726 non-null  float64\n",
      " 4   frs                  23726 non-null  float64\n",
      " 5   pet                  23726 non-null  float64\n",
      " 6   pre                  23726 non-null  float64\n",
      " 7   tmn                  23726 non-null  float64\n",
      " 8   tmp                  23726 non-null  float64\n",
      " 9   tmx                  23726 non-null  float64\n",
      " 10  vap                  23726 non-null  float64\n",
      " 11  wet                  23726 non-null  float64\n",
      " 12  elevation            23726 non-null  float64\n",
      " 13  dominant_land_cover  23726 non-null  float64\n",
      " 14  X5_Ct_2010_Da        23726 non-null  float64\n",
      " 15  X5_Bf_2010_Da        23726 non-null  float64\n",
      " 16  lumpy                23726 non-null  float64\n",
      "dtypes: float64(17)\n",
      "memory usage: 3.8 MB\n"
     ]
    }
   ],
   "source": [
    "data.info()"
   ]
  },
  {
   "cell_type": "code",
   "execution_count": 23,
   "id": "5caea900",
   "metadata": {
    "execution": {
     "iopub.execute_input": "2023-12-15T07:28:44.182052Z",
     "iopub.status.busy": "2023-12-15T07:28:44.181604Z",
     "iopub.status.idle": "2023-12-15T07:28:44.768901Z",
     "shell.execute_reply": "2023-12-15T07:28:44.767628Z"
    },
    "papermill": {
     "duration": 0.602503,
     "end_time": "2023-12-15T07:28:44.771690",
     "exception": false,
     "start_time": "2023-12-15T07:28:44.169187",
     "status": "completed"
    },
    "tags": []
   },
   "outputs": [],
   "source": [
    "df = pd.DataFrame(data)\n",
    "\n",
    "# Export the Pandas DataFrame to a CSV file.\n",
    "df.to_csv('dataset.csv', index=False)\n"
   ]
  },
  {
   "cell_type": "code",
   "execution_count": 24,
   "id": "aa6681f6",
   "metadata": {
    "execution": {
     "iopub.execute_input": "2023-12-15T07:28:44.795801Z",
     "iopub.status.busy": "2023-12-15T07:28:44.795370Z",
     "iopub.status.idle": "2023-12-15T07:28:47.251639Z",
     "shell.execute_reply": "2023-12-15T07:28:47.250722Z"
    },
    "papermill": {
     "duration": 2.472547,
     "end_time": "2023-12-15T07:28:47.255290",
     "exception": false,
     "start_time": "2023-12-15T07:28:44.782743",
     "status": "completed"
    },
    "tags": []
   },
   "outputs": [
    {
     "data": {
      "image/png": "[encoded data removed]",
      "text/plain": [
       "<Figure size 1080x1080 with 14 Axes>"
      ]
     },
     "metadata": {
      "needs_background": "light"
     },
     "output_type": "display_data"
    }
   ],
   "source": [
    "import matplotlib.pyplot as plt\n",
    "import pandas as pd\n",
    "\n",
    "\n",
    "features_to_plot = [col for col in df.columns if col not in ['x', 'y', 'lumpy']]\n",
    "\n",
    "\n",
    "plt.figure(figsize=(15, 15))\n",
    "\n",
    "# Create separate scatterplots for each feature against 'lumpy'\n",
    "for i, feature in enumerate(features_to_plot, 1):\n",
    "    plt.subplot(4, 4, i)  \n",
    "    plt.scatter(df[feature], df['lumpy'], alpha=0.3)\n",
    "    plt.xlabel(feature)\n",
    "    plt.ylabel('lumpy')\n",
    "\n",
    "plt.tight_layout()  \n",
    "plt.show()\n"
   ]
  },
  {
   "cell_type": "code",
   "execution_count": 25,
   "id": "5e629b4a",
   "metadata": {
    "execution": {
     "iopub.execute_input": "2023-12-15T07:28:47.281827Z",
     "iopub.status.busy": "2023-12-15T07:28:47.280849Z",
     "iopub.status.idle": "2023-12-15T07:28:49.261795Z",
     "shell.execute_reply": "2023-12-15T07:28:49.260451Z"
    },
    "papermill": {
     "duration": 1.996545,
     "end_time": "2023-12-15T07:28:49.264235",
     "exception": false,
     "start_time": "2023-12-15T07:28:47.267690",
     "status": "completed"
    },
    "tags": []
   },
   "outputs": [
    {
     "data": {
      "image/png": "[encoded data removed]",
      "text/plain": [
       "<Figure size 432x288 with 8 Axes>"
      ]
     },
     "metadata": {
      "needs_background": "light"
     },
     "output_type": "display_data"
    },
    {
     "data": {
      "image/png": "[encoded data removed]",
      "text/plain": [
       "<Figure size 432x288 with 9 Axes>"
      ]
     },
     "metadata": {
      "needs_background": "light"
     },
     "output_type": "display_data"
    }
   ],
   "source": [
    "\n",
    "# Create a subplot grid with 4 rows and 2 columns\n",
    "fig, axes = plt.subplots(4, 2)\n",
    "\n",
    "# Create a histogram of each feature in a separate subplot\n",
    "for i in range(4):\n",
    "    for j in range(2):\n",
    "        feature = df.columns[i * 2 + j]\n",
    "        axes[i, j].hist(df[feature])\n",
    "        axes[i, j].set_title(feature)\n",
    "\n",
    "# Tighten the layout of the subplots\n",
    "plt.tight_layout()\n",
    "\n",
    "# Display the plot\n",
    "plt.show()\n",
    "\n",
    "\n",
    "remaining_columns = list(df.columns[8:])\n",
    "\n",
    "\n",
    "num_features = len(remaining_columns)\n",
    "num_rows = int(num_features ** 0.5)\n",
    "num_cols = int(num_features / num_rows)\n",
    "\n",
    "fig, axes = plt.subplots(num_rows, num_cols)\n",
    "\n",
    "\n",
    "for i in range(num_rows):\n",
    "    for j in range(num_cols):\n",
    "        feature = remaining_columns[i * num_cols + j]\n",
    "        axes[i, j].hist(df[feature])\n",
    "        axes[i, j].set_title(feature)\n",
    "\n",
    "\n",
    "plt.tight_layout()\n",
    "\n",
    "\n",
    "plt.show()"
   ]
  },
  {
   "cell_type": "code",
   "execution_count": 26,
   "id": "a30e7cb6",
   "metadata": {
    "execution": {
     "iopub.execute_input": "2023-12-15T07:28:49.290995Z",
     "iopub.status.busy": "2023-12-15T07:28:49.290569Z",
     "iopub.status.idle": "2023-12-15T07:28:49.301390Z",
     "shell.execute_reply": "2023-12-15T07:28:49.300292Z"
    },
    "papermill": {
     "duration": 0.026736,
     "end_time": "2023-12-15T07:28:49.303632",
     "exception": false,
     "start_time": "2023-12-15T07:28:49.276896",
     "status": "completed"
    },
    "tags": []
   },
   "outputs": [
    {
     "data": {
      "text/plain": [
       "0        1.0\n",
       "1        1.0\n",
       "2        1.0\n",
       "3        1.0\n",
       "4        1.0\n",
       "        ... \n",
       "24798    0.0\n",
       "24799    0.0\n",
       "24800    0.0\n",
       "24801    0.0\n",
       "24802    0.0\n",
       "Name: lumpy, Length: 23726, dtype: float64"
      ]
     },
     "execution_count": 26,
     "metadata": {},
     "output_type": "execute_result"
    }
   ],
   "source": [
    "x = data.iloc[:,:-1]\n",
    "y = data.iloc[: ,-1]\n",
    "y"
   ]
  },
  {
   "cell_type": "code",
   "execution_count": 27,
   "id": "64e75483",
   "metadata": {
    "execution": {
     "iopub.execute_input": "2023-12-15T07:28:49.331498Z",
     "iopub.status.busy": "2023-12-15T07:28:49.331083Z",
     "iopub.status.idle": "2023-12-15T07:28:49.554649Z",
     "shell.execute_reply": "2023-12-15T07:28:49.553268Z"
    },
    "papermill": {
     "duration": 0.241354,
     "end_time": "2023-12-15T07:28:49.557487",
     "exception": false,
     "start_time": "2023-12-15T07:28:49.316133",
     "status": "completed"
    },
    "tags": []
   },
   "outputs": [
    {
     "name": "stdout",
     "output_type": "stream",
     "text": [
      "(21353, 16)\n",
      "(21353,)\n",
      "(2373, 16)\n",
      "(2373,)\n"
     ]
    }
   ],
   "source": [
    "from sklearn.model_selection import train_test_split\n",
    "x_train,x_test,y_train,y_test=train_test_split(x,y,test_size=0.1,stratify=y)\n",
    "print(x_train.shape)\n",
    "print(y_train.shape)\n",
    "print(x_test.shape)\n",
    "print(y_test.shape)"
   ]
  },
  {
   "cell_type": "code",
   "execution_count": 28,
   "id": "57e16aea",
   "metadata": {
    "execution": {
     "iopub.execute_input": "2023-12-15T07:28:49.584489Z",
     "iopub.status.busy": "2023-12-15T07:28:49.584105Z",
     "iopub.status.idle": "2023-12-15T07:28:52.752052Z",
     "shell.execute_reply": "2023-12-15T07:28:52.750940Z"
    },
    "papermill": {
     "duration": 3.184622,
     "end_time": "2023-12-15T07:28:52.754732",
     "exception": false,
     "start_time": "2023-12-15T07:28:49.570110",
     "status": "completed"
    },
    "tags": []
   },
   "outputs": [
    {
     "data": {
      "text/plain": [
       "SVC(gamma=8)"
      ]
     },
     "execution_count": 28,
     "metadata": {},
     "output_type": "execute_result"
    }
   ],
   "source": [
    "from sklearn.svm import SVC\n",
    "\n",
    "svc_model = SVC(kernel='rbf',gamma=8)\n",
    "svc_model.fit(x_train, y_train)"
   ]
  },
  {
   "cell_type": "code",
   "execution_count": 29,
   "id": "5d99b827",
   "metadata": {
    "execution": {
     "iopub.execute_input": "2023-12-15T07:28:52.783190Z",
     "iopub.status.busy": "2023-12-15T07:28:52.782735Z",
     "iopub.status.idle": "2023-12-15T07:29:01.841024Z",
     "shell.execute_reply": "2023-12-15T07:29:01.839633Z"
    },
    "papermill": {
     "duration": 9.075619,
     "end_time": "2023-12-15T07:29:01.843353",
     "exception": false,
     "start_time": "2023-12-15T07:28:52.767734",
     "status": "completed"
    },
    "tags": []
   },
   "outputs": [
    {
     "name": "stdout",
     "output_type": "stream",
     "text": [
      "Training confusion matrix\n",
      "[[19350   237]\n",
      " [  466  1300]]\n",
      "validation confusion matrix\n",
      "[[2148   29]\n",
      " [  57  139]]\n",
      "training accuracy = 96.7077225682574\n",
      "testing accuracy = 96.37589549093974\n"
     ]
    }
   ],
   "source": [
    "from sklearn.metrics import accuracy_score, confusion_matrix\n",
    "predictions= svc_model .predict(x_train)\n",
    "percentage=svc_model.score(x_train,y_train)\n",
    "res=confusion_matrix(y_train,predictions)\n",
    "print(\"Training confusion matrix\")\n",
    "print(res)\n",
    "predictions= svc_model .predict(x_test)\n",
    "percentage=svc_model.score(x_test,y_test)\n",
    "res=confusion_matrix(y_test,predictions)\n",
    "print(\"validation confusion matrix\")\n",
    "print(res)\n",
    "\n",
    "print('training accuracy = '+str(svc_model.score(x_train, y_train)*100))\n",
    "print('testing accuracy = '+str(svc_model.score(x_test, y_test)*100))"
   ]
  },
  {
   "cell_type": "code",
   "execution_count": 30,
   "id": "1ffec150",
   "metadata": {
    "execution": {
     "iopub.execute_input": "2023-12-15T07:29:01.871349Z",
     "iopub.status.busy": "2023-12-15T07:29:01.870920Z",
     "iopub.status.idle": "2023-12-15T07:29:04.864484Z",
     "shell.execute_reply": "2023-12-15T07:29:04.862956Z"
    },
    "papermill": {
     "duration": 3.010151,
     "end_time": "2023-12-15T07:29:04.866746",
     "exception": false,
     "start_time": "2023-12-15T07:29:01.856595",
     "status": "completed"
    },
    "tags": []
   },
   "outputs": [
    {
     "name": "stdout",
     "output_type": "stream",
     "text": [
      "Training ROC AUC score: 0.8620134890818159\n",
      "Test ROC AUC score: 0.8479312947043769\n"
     ]
    }
   ],
   "source": [
    "from sklearn.metrics import roc_curve, auc\n",
    "\n",
    "\n",
    "predictions_train = svc_model.predict(x_train)\n",
    "predictions_test = svc_model.predict(x_test)\n",
    "\n",
    "\n",
    "def calculate_roc_auc(y_true, y_pred):\n",
    "    fpr, tpr, thresholds = roc_curve(y_true, y_pred)\n",
    "    roc_auc = auc(fpr, tpr)\n",
    "    return fpr, tpr, thresholds, roc_auc\n",
    "\n",
    "\n",
    "fpr_train, tpr_train, thresholds_train, roc_auc_train = calculate_roc_auc(y_train, predictions_train)\n",
    "\n",
    "\n",
    "fpr_test, tpr_test, thresholds_test, roc_auc_test = calculate_roc_auc(y_test, predictions_test)\n",
    "\n",
    "\n",
    "print('Training ROC AUC score:', roc_auc_train)\n",
    "print('Test ROC AUC score:', roc_auc_test)\n"
   ]
  },
  {
   "cell_type": "code",
   "execution_count": 31,
   "id": "55478ccc",
   "metadata": {
    "execution": {
     "iopub.execute_input": "2023-12-15T07:29:04.894559Z",
     "iopub.status.busy": "2023-12-15T07:29:04.894143Z",
     "iopub.status.idle": "2023-12-15T07:29:05.293461Z",
     "shell.execute_reply": "2023-12-15T07:29:05.292285Z"
    },
    "papermill": {
     "duration": 0.416248,
     "end_time": "2023-12-15T07:29:05.296051",
     "exception": false,
     "start_time": "2023-12-15T07:29:04.879803",
     "status": "completed"
    },
    "tags": []
   },
   "outputs": [
    {
     "data": {
      "image/png": "[encoded data removed]",
      "text/plain": [
       "<Figure size 576x432 with 1 Axes>"
      ]
     },
     "metadata": {
      "needs_background": "light"
     },
     "output_type": "display_data"
    },
    {
     "data": {
      "image/png": "[encoded data removed]",
      "text/plain": [
       "<Figure size 576x432 with 1 Axes>"
      ]
     },
     "metadata": {
      "needs_background": "light"
     },
     "output_type": "display_data"
    }
   ],
   "source": [
    "from sklearn.metrics import roc_curve, auc, precision_recall_curve\n",
    "fpr, tpr, thresholds = roc_curve(y_test, predictions_test)\n",
    "roc_auc = auc(fpr, tpr)\n",
    "\n",
    "precision, recall, _ = precision_recall_curve(y_test, predictions_test)\n",
    "\n",
    "\n",
    "plt.figure(figsize=(8, 6))\n",
    "plt.plot(fpr, tpr, color='darkorange', lw=2, label='ROC curve (area = {:.2f})'.format(roc_auc))\n",
    "plt.plot([0, 1], [0, 1], color='navy', lw=2, linestyle='--')\n",
    "plt.xlabel('False Positive Rate')\n",
    "plt.ylabel('True Positive Rate')\n",
    "plt.title('Receiver Operating Characteristic (ROC) Curve')\n",
    "plt.legend(loc='lower right')\n",
    "plt.show()\n",
    "\n",
    "\n",
    "plt.figure(figsize=(8, 6))\n",
    "plt.plot(recall, precision, color='darkorange', lw=2, label='Precision-Recall curve')\n",
    "plt.xlabel('Recall')\n",
    "plt.ylabel('Precision')\n",
    "plt.title('Precision-Recall Curve')\n",
    "plt.legend(loc='lower left')\n",
    "plt.show()"
   ]
  }
 ],
 "metadata": {
  "kaggle": {
   "accelerator": "none",
   "dataSources": [
    {
     "datasetId": 1750838,
     "sourceId": 4483322,
     "sourceType": "datasetVersion"
    }
   ],
   "dockerImageVersionId": 30260,
   "isGpuEnabled": false,
   "isInternetEnabled": false,
   "language": "python",
   "sourceType": "notebook"
  },
  "kernelspec": {
   "display_name": "Python 3",
   "language": "python",
   "name": "python3"
  },
  "language_info": {
   "codemirror_mode": {
    "name": "ipython",
    "version": 3
   },
   "file_extension": ".py",
   "mimetype": "text/x-python",
   "name": "python",
   "nbconvert_exporter": "python",
   "pygments_lexer": "ipython3",
   "version": "3.7.12"
  },
  "papermill": {
   "default_parameters": {},
   "duration": 33.623006,
   "end_time": "2023-12-15T07:29:06.131558",
   "environment_variables": {},
   "exception": null,
   "input_path": "__notebook__.ipynb",
   "output_path": "__notebook__.ipynb",
   "parameters": {},
   "start_time": "2023-12-15T07:28:32.508552",
   "version": "2.3.4"
  }
 },
 "nbformat": 4,
 "nbformat_minor": 5
}
